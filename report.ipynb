{
 "cells": [
  {
   "cell_type": "code",
   "execution_count": 1,
   "metadata": {
    "collapsed": true
   },
   "outputs": [],
   "source": [
    "from sklearn.datasets import load_iris, load_wine, load_breast_cancer\n",
    "\n",
    "from data_complexity import f1\n",
    "from data_complexity import f2"
   ]
  },
  {
   "cell_type": "code",
   "execution_count": 2,
   "outputs": [
    {
     "name": "stdout",
     "output_type": "stream",
     "text": [
      "F1 measure: 0.05862828094263203\n",
      "F2 measure: 0.0063817663817663794\n"
     ]
    }
   ],
   "source": [
    "X, y = load_iris(as_frame=True, return_X_y=True)\n",
    "y = y.to_frame()\n",
    "\n",
    "print(f'F1 measure: {f1(X, y)}')\n",
    "print(f'F2 measure: {f2(X, y)}')"
   ],
   "metadata": {
    "collapsed": false,
    "pycharm": {
     "name": "#%%\n"
    }
   }
  },
  {
   "cell_type": "code",
   "execution_count": 3,
   "outputs": [
    {
     "name": "stdout",
     "output_type": "stream",
     "text": [
      "F1 measure: 0.27222450784691526\n",
      "F2 measure: 2.0354274454154463e-05\n"
     ]
    }
   ],
   "source": [
    "X, y = load_wine(as_frame=True, return_X_y=True)\n",
    "y = y.to_frame()\n",
    "\n",
    "print(f'F1 measure: {f1(X, y)}')\n",
    "print(f'F2 measure: {f2(X, y)}')"
   ],
   "metadata": {
    "collapsed": false,
    "pycharm": {
     "name": "#%%\n"
    }
   }
  },
  {
   "cell_type": "code",
   "execution_count": 4,
   "outputs": [
    {
     "name": "stdout",
     "output_type": "stream",
     "text": [
      "F1 measure: 0.37025297643854166\n",
      "F2 measure: 5.6830952489656924e-11\n"
     ]
    }
   ],
   "source": [
    "X, y = load_breast_cancer(as_frame=True, return_X_y=True)\n",
    "y = y.to_frame()\n",
    "\n",
    "print(f'F1 measure: {f1(X, y)}')\n",
    "print(f'F2 measure: {f2(X, y)}')"
   ],
   "metadata": {
    "collapsed": false,
    "pycharm": {
     "name": "#%%\n"
    }
   }
  }
 ],
 "metadata": {
  "kernelspec": {
   "display_name": "Python 3",
   "language": "python",
   "name": "python3"
  },
  "language_info": {
   "codemirror_mode": {
    "name": "ipython",
    "version": 2
   },
   "file_extension": ".py",
   "mimetype": "text/x-python",
   "name": "python",
   "nbconvert_exporter": "python",
   "pygments_lexer": "ipython2",
   "version": "2.7.6"
  }
 },
 "nbformat": 4,
 "nbformat_minor": 0
}